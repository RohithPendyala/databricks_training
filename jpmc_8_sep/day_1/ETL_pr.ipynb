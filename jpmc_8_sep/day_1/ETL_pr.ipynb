{
 "cells": [
  {
   "cell_type": "code",
   "execution_count": 0,
   "metadata": {
    "application/vnd.databricks.v1+cell": {
     "cellMetadata": {
      "byteLimit": 2048000,
      "rowLimit": 10000
     },
     "inputWidgets": {},
     "nuid": "f5789693-2fb0-4686-9150-776c3155663e",
     "showTitle": false,
     "tableResultSettingsMap": {},
     "title": ""
    }
   },
   "outputs": [],
   "source": [
    "from pyspark.sql.types import *\n",
    "from pyspark.sql.functions import *\n",
    "schema = StructType([\n",
    "    StructField(\"TransactionID\", StringType(), True),\n",
    "    StructField(\"CustomerID\", StringType(), True),\n",
    "    StructField(\"AccountType\", StringType(), True),\n",
    "    StructField(\"TransactionType\", StringType(), True),\n",
    "    StructField(\"AmountUSD\", DoubleType(), True),\n",
    "    StructField(\"Branch\", StringType(), True),\n",
    "    StructField(\"TransactionDate\", DateType(), True)\n",
    "])"
   ]
  },
  {
   "cell_type": "code",
   "execution_count": 0,
   "metadata": {
    "application/vnd.databricks.v1+cell": {
     "cellMetadata": {
      "byteLimit": 2048000,
      "rowLimit": 10000
     },
     "inputWidgets": {},
     "nuid": "2cb97ce3-e6af-40bf-bf0e-fa109bf8360a",
     "showTitle": false,
     "tableResultSettingsMap": {},
     "title": ""
    }
   },
   "outputs": [],
   "source": [
    "df=spark.read.schema(schema).csv(\"/Volumes/dev/naval/raw/financial_dataset.csv\", header=True)"
   ]
  },
  {
   "cell_type": "code",
   "execution_count": 0,
   "metadata": {
    "application/vnd.databricks.v1+cell": {
     "cellMetadata": {
      "byteLimit": 2048000,
      "rowLimit": 10000
     },
     "inputWidgets": {},
     "nuid": "443571c5-dcce-4ae0-8f85-9c8034a1b388",
     "showTitle": false,
     "tableResultSettingsMap": {},
     "title": ""
    }
   },
   "outputs": [],
   "source": [
    "#df = df.withColumnRenamed(\"TransactionID\", \"transaction_id\")\n",
    "#df = df.withColumnRenamed(\"CustomerID\", \"customer_id\")\n",
    "\n",
    "df1 = (\n",
    "    df\n",
    "    .withColumnsRenamed({\"TransactionID\": \"transaction_id\", \"CustomerID\": \"customer_id\"})\n",
    "    .withColumn(\"ingestion_date\", current_timestamp())\n",
    ")\n",
    "    #.withColumn(\"metadata\", _metadata)\n"
   ]
  },
  {
   "cell_type": "code",
   "execution_count": 0,
   "metadata": {
    "application/vnd.databricks.v1+cell": {
     "cellMetadata": {
      "byteLimit": 2048000,
      "rowLimit": 10000
     },
     "inputWidgets": {},
     "nuid": "1cdebacd-1a8f-4456-a6cb-7f6e8182f09e",
     "showTitle": false,
     "tableResultSettingsMap": {},
     "title": ""
    }
   },
   "outputs": [],
   "source": [
    "df1.write.mode(\"overwrite\").saveAsTable(\"dev.rohith.financial_py\")"
   ]
  },
  {
   "cell_type": "code",
   "execution_count": 0,
   "metadata": {
    "application/vnd.databricks.v1+cell": {
     "cellMetadata": {
      "byteLimit": 2048000,
      "implicitDf": true,
      "rowLimit": 10000
     },
     "inputWidgets": {},
     "nuid": "589b147f-363c-4708-858d-50fb9fd5691f",
     "showTitle": false,
     "tableResultSettingsMap": {},
     "title": ""
    }
   },
   "outputs": [],
   "source": [
    "%sql\n",
    "select * from dev.rohith.financial_py"
   ]
  },
  {
   "cell_type": "markdown",
   "metadata": {
    "application/vnd.databricks.v1+cell": {
     "cellMetadata": {},
     "inputWidgets": {},
     "nuid": "9db4d1e3-a704-4d4e-8aba-3dbc31c0e7bb",
     "showTitle": false,
     "tableResultSettingsMap": {},
     "title": ""
    }
   },
   "source": [
    "\n",
    "### everything in one cell\n",
    "\n",
    "df=spark.read.schema(schema).csv(\"/Volumes/dev/naval/raw/financial_dataset.csv\", header=True)\n",
    "\n",
    "df1=(\n",
    "    df\n",
    "    .withColumnsRenamed({\"TransactionID\":\"transaction_id\",\"CustomerID\":\"customer_id\"})\n",
    "    .withColumn(\"ingestion_date\",current_timestamp())\n",
    "    )\n",
    "\n",
    "\n",
    "df1.write.mode(\"overwrite\").saveAsTable(\"dev.naval.financial_py\")"
   ]
  },
  {
   "cell_type": "markdown",
   "metadata": {
    "application/vnd.databricks.v1+cell": {
     "cellMetadata": {},
     "inputWidgets": {},
     "nuid": "9d94dce7-020f-4c78-8597-42e9edbe089f",
     "showTitle": false,
     "tableResultSettingsMap": {},
     "title": ""
    }
   },
   "source": [
    "\n",
    "### In once cell without dataframe creation\n",
    "\n",
    "(spark.read.schema(schema).csv(\"/Volumes/dev/naval/raw/financial_dataset.csv\", header=True)\n",
    " \n",
    " .withColumnsRenamed({\"TransactionID\":\"transaction_id\",\"CustomerID\":\"customer_id\"}).withColumn(\"ingestion_date\",current_timestamp())\n",
    " \n",
    " .write.mode(\"overwrite\").saveAsTable(\"dev.naval.financial_py\"))\n"
   ]
  },
  {
   "cell_type": "code",
   "execution_count": 0,
   "metadata": {
    "application/vnd.databricks.v1+cell": {
     "cellMetadata": {},
     "inputWidgets": {},
     "nuid": "e863bf94-6144-46b9-acf1-0bbf6dc63740",
     "showTitle": false,
     "tableResultSettingsMap": {},
     "title": ""
    }
   },
   "outputs": [],
   "source": []
  }
 ],
 "metadata": {
  "application/vnd.databricks.v1+notebook": {
   "computePreferences": null,
   "dashboards": [],
   "environmentMetadata": {
    "base_environment": "",
    "environment_version": "3"
   },
   "inputWidgetPreferences": null,
   "language": "python",
   "notebookMetadata": {
    "mostRecentlyExecutedCommandWithImplicitDF": {
     "commandId": 7448451860037122,
     "dataframes": [
      "_sqldf"
     ]
    },
    "pythonIndentUnit": 4
   },
   "notebookName": "ETL_pr",
   "widgets": {}
  },
  "language_info": {
   "name": "python"
  }
 },
 "nbformat": 4,
 "nbformat_minor": 0
}
